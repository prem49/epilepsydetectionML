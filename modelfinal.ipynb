{
 "cells": [
  {
   "cell_type": "code",
   "execution_count": null,
   "metadata": {
    "colab": {},
    "colab_type": "code",
    "id": "kJz1d-JkMWUp"
   },
   "outputs": [],
   "source": []
  },
  {
   "cell_type": "code",
   "execution_count": 1,
   "metadata": {
    "colab": {},
    "colab_type": "code",
    "id": "GdKEtrBBGYZq"
   },
   "outputs": [
    {
     "name": "stdout",
     "output_type": "stream",
     "text": [
      "Epilepsy detected\n"
     ]
    }
   ],
   "source": [
    "import pickle\n",
    "# load the model from disk\n",
    "with open('model_gnb.pkl','rb') as f:\n",
    "    mp=pickle.load(f)\n",
    "pred=mp.predict([[86,82,6,1,20,10,7,272,200,202,207,208,212,2,-267,-600,-800,-1001,-1109,-1090,-967,-706,-60,-102,118,18,27,70,80,7,97,9,12,10,26,0,2,20,10,12,9,9,0,297,290,290,290,286,279,280,1,8,280,202,210,190,169,111,-70,-88,-679,-892,-909,-972,-1001,-1006,-909,-807,-668,-2,-100,72,226,26,92,61,90,10,11,96,79,0,0,27,10,99,80,80,0,2,0,7,18,92,70,60,60,72,80,88,80,71,60,0,0,0,202,200,100,101,100,8,-206,-8,-809,-1067,-1069,-907,-780,-97,-60,-7,-276,-220,-210,0,-900,-1010,-1716,-1060,-662,-96,200,20,201,29,-167,-228,-106,27,106,229,269,297,7,0,0,6,7,280,201,109,80,1,0,62,60,60,69,89,120,106,127,102,90,100,101,160,168,160,100,106,102,107,106,100,100,129]])\n",
    "print('No Epilepsy'if pred[0]==0 else 'Epilepsy detected')"
   ]
  },
  {
   "cell_type": "code",
   "execution_count": null,
   "metadata": {
    "colab": {},
    "colab_type": "code",
    "id": "vQsQXvuzGYZ_"
   },
   "outputs": [],
   "source": []
  },
  {
   "cell_type": "code",
   "execution_count": null,
   "metadata": {
    "colab": {
     "base_uri": "https://localhost:8080/",
     "height": 34
    },
    "colab_type": "code",
    "id": "uKPY95zjGYaN",
    "outputId": "a73b3171-2185-4005-973b-f9434047277f"
   },
   "outputs": [],
   "source": []
  },
  {
   "cell_type": "code",
   "execution_count": 2,
   "metadata": {
    "colab": {},
    "colab_type": "code",
    "id": "pVNJC_LbGYaZ"
   },
   "outputs": [],
   "source": [
    "pred=mp.predict([[86,82,6,1,20,10,7,272,200,202,207,208,212,2,-267,-600,-800,-1001,-1109,-1090,-967,-706,-60,-102,118,18,27,70,80,7,97,9,12,10,26,0,2,20,10,12,9,9,0,297,290,290,290,286,279,280,1,8,280,202,210,190,169,111,-70,-88,-679,-892,-909,-972,-1001,-1006,-909,-807,-668,-2,-100,72,226,26,92,61,90,10,11,96,79,0,0,27,10,99,80,80,0,2,0,7,18,92,70,60,60,72,80,88,80,71,60,0,0,0,202,200,100,101,100,8,-206,-8,-809,-1067,-1069,-907,-780,-97,-60,-7,-276,-220,-210,0,-900,-1010,-1716,-1060,-662,-96,200,20,201,29,-167,-228,-106,27,106,229,269,297,7,0,0,6,7,280,201,109,80,1,0,62,60,60,69,89,120,106,127,102,90,100,101,160,168,160,100,106,102,107,106,100,100,129]])"
   ]
  },
  {
   "cell_type": "code",
   "execution_count": 3,
   "metadata": {
    "colab": {
     "base_uri": "https://localhost:8080/",
     "height": 34
    },
    "colab_type": "code",
    "id": "34SvMJghGYas",
    "outputId": "7646908a-083e-4c76-f462-a5c8b1b18656"
   },
   "outputs": [
    {
     "name": "stdout",
     "output_type": "stream",
     "text": [
      "Epilepsy detected\n"
     ]
    }
   ],
   "source": [
    "print('No Epilepsy'if pred[0]==0 else 'Epilepsy detected')"
   ]
  },
  {
   "cell_type": "code",
   "execution_count": 4,
   "metadata": {
    "colab": {},
    "colab_type": "code",
    "id": "E9w_aSWHR1Ow"
   },
   "outputs": [],
   "source": [
    "\n",
    "# load the model from disk\n",
    "with open('model_knn.pkl','rb') as f:\n",
    "    mp=pickle.load(f)"
   ]
  },
  {
   "cell_type": "code",
   "execution_count": 5,
   "metadata": {
    "colab": {},
    "colab_type": "code",
    "id": "Yvr1G7RFR1Pt"
   },
   "outputs": [],
   "source": [
    "pred=mp.predict([[100,190,229,220,192,120,0,-9,0,-8,-10,0,60,110,102,160,127,0,-7,-121,-108,-120,-101,0,11,9,20,8,60,6,10,-19,-61,-96,-100,-102,-116,-110,-71,-10,20,19,6,9,21,10,-7,-8,0,0,7,80,101,88,70,69,1,-10,-1,-61,-80,-77,-66,0,0,87,129,121,88,12,-76,-100,-207,-186,-160,-108,-100,0,0,90,70,8,-81,-100,-227,-262,-200,-218,-187,-126,-60,-12,27,61,9,9,-6,-120,-210,-281,-260,-181,-89,0,0,0,8,0,1,0,9,-7,0,-70,-80,-101,-70,-11,2,62,66,70,60,9,6,6,-11,0,0,-20,8,2,77,100,100,121,79,9,0,0,90,111,107,60,2,18,-20,-69,-60,0,0,-7,-88,-110,-100,-110,-80,0,-79,-72,-80,-109,-98,-72,-60,-60,-11,10,8,-17,-10,-1,-77,-100,-127,-116,-80,-1]])"
   ]
  },
  {
   "cell_type": "code",
   "execution_count": 6,
   "metadata": {
    "colab": {
     "base_uri": "https://localhost:8080/",
     "height": 34
    },
    "colab_type": "code",
    "id": "2QnKVcxER1QD",
    "outputId": "bd42663f-7837-4d33-c29a-423d697e85ca"
   },
   "outputs": [
    {
     "name": "stdout",
     "output_type": "stream",
     "text": [
      "No Epilepsy\n"
     ]
    }
   ],
   "source": [
    "print('No Epilepsy'if pred[0]==0 else 'Epilepsy detected')"
   ]
  },
  {
   "cell_type": "code",
   "execution_count": 7,
   "metadata": {
    "colab": {},
    "colab_type": "code",
    "id": "6MJvXlHsR1QX"
   },
   "outputs": [],
   "source": [
    "pred=mp.predict([[86,82,6,1,20,10,7,272,200,202,207,208,212,2,-267,-600,-800,-1001,-1109,-1090,-967,-706,-60,-102,118,18,27,70,80,7,97,9,12,10,26,0,2,20,10,12,9,9,0,297,290,290,290,286,279,280,1,8,280,202,210,190,169,111,-70,-88,-679,-892,-909,-972,-1001,-1006,-909,-807,-668,-2,-100,72,226,26,92,61,90,10,11,96,79,0,0,27,10,99,80,80,0,2,0,7,18,92,70,60,60,72,80,88,80,71,60,0,0,0,202,200,100,101,100,8,-206,-8,-809,-1067,-1069,-907,-780,-97,-60,-7,-276,-220,-210,0,-900,-1010,-1716,-1060,-662,-96,200,20,201,29,-167,-228,-106,27,106,229,269,297,7,0,0,6,7,280,201,109,80,1,0,62,60,60,69,89,120,106,127,102,90,100,101,160,168,160,100,106,102,107,106,100,100,129]])"
   ]
  },
  {
   "cell_type": "code",
   "execution_count": 8,
   "metadata": {
    "colab": {
     "base_uri": "https://localhost:8080/",
     "height": 34
    },
    "colab_type": "code",
    "id": "v7FvTFLKR1Qm",
    "outputId": "3690d00b-db4f-4f8f-b702-9ca6f942db12"
   },
   "outputs": [
    {
     "name": "stdout",
     "output_type": "stream",
     "text": [
      "No Epilepsy\n"
     ]
    }
   ],
   "source": [
    "print('No Epilepsy'if pred[0]==0 else 'Epilepsy detected')"
   ]
  },
  {
   "cell_type": "code",
   "execution_count": null,
   "metadata": {},
   "outputs": [],
   "source": []
  },
  {
   "cell_type": "code",
   "execution_count": null,
   "metadata": {},
   "outputs": [],
   "source": []
  },
  {
   "cell_type": "code",
   "execution_count": null,
   "metadata": {},
   "outputs": [],
   "source": []
  },
  {
   "cell_type": "code",
   "execution_count": null,
   "metadata": {},
   "outputs": [],
   "source": []
  }
 ],
 "metadata": {
  "colab": {
   "collapsed_sections": [],
   "name": "modelfinal.ipynb",
   "provenance": []
  },
  "kernelspec": {
   "display_name": "Python 3",
   "language": "python",
   "name": "python3"
  },
  "language_info": {
   "codemirror_mode": {
    "name": "ipython",
    "version": 3
   },
   "file_extension": ".py",
   "mimetype": "text/x-python",
   "name": "python",
   "nbconvert_exporter": "python",
   "pygments_lexer": "ipython3",
   "version": "3.8.8"
  }
 },
 "nbformat": 4,
 "nbformat_minor": 1
}
